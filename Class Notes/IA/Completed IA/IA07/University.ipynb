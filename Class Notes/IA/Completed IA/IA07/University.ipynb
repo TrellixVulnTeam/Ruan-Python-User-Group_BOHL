{
 "cells": [
  {
   "cell_type": "markdown",
   "metadata": {},
   "source": [
    "# Individual Assignment 7\n",
    "### Analyzing Data for Universitites\n",
    "#### Seeing how median SAT score, accpetance rate, and expenditures per student affect the graduation rate for a list of 50 prestigous universities"
   ]
  },
  {
   "cell_type": "code",
   "execution_count": 1,
   "metadata": {
    "collapsed": true
   },
   "outputs": [],
   "source": [
    "import pandas as pd\n",
    "import matplotlib.pyplot as plt\n",
    "%matplotlib inline"
   ]
  },
  {
   "cell_type": "code",
   "execution_count": 2,
   "metadata": {
    "collapsed": false
   },
   "outputs": [
    {
     "data": {
      "text/html": [
       "<div>\n",
       "<table border=\"1\" class=\"dataframe\">\n",
       "  <thead>\n",
       "    <tr style=\"text-align: right;\">\n",
       "      <th></th>\n",
       "      <th>School</th>\n",
       "      <th>Type</th>\n",
       "      <th>Median_SAT</th>\n",
       "      <th>Acceptance_Rate_Perc</th>\n",
       "      <th>Expenditures_per_Student</th>\n",
       "      <th>Graduation_perc</th>\n",
       "    </tr>\n",
       "  </thead>\n",
       "  <tbody>\n",
       "    <tr>\n",
       "      <th>0</th>\n",
       "      <td>Amherst</td>\n",
       "      <td>Lib Arts</td>\n",
       "      <td>1315</td>\n",
       "      <td>26</td>\n",
       "      <td>23972</td>\n",
       "      <td>93</td>\n",
       "    </tr>\n",
       "    <tr>\n",
       "      <th>1</th>\n",
       "      <td>Barnard</td>\n",
       "      <td>Lib Arts</td>\n",
       "      <td>1220</td>\n",
       "      <td>57</td>\n",
       "      <td>15887</td>\n",
       "      <td>80</td>\n",
       "    </tr>\n",
       "    <tr>\n",
       "      <th>2</th>\n",
       "      <td>Bates</td>\n",
       "      <td>Lib Arts</td>\n",
       "      <td>1240</td>\n",
       "      <td>40</td>\n",
       "      <td>15798</td>\n",
       "      <td>88</td>\n",
       "    </tr>\n",
       "    <tr>\n",
       "      <th>3</th>\n",
       "      <td>Berkeley</td>\n",
       "      <td>University</td>\n",
       "      <td>1176</td>\n",
       "      <td>36</td>\n",
       "      <td>26031</td>\n",
       "      <td>68</td>\n",
       "    </tr>\n",
       "    <tr>\n",
       "      <th>4</th>\n",
       "      <td>Bowdoin</td>\n",
       "      <td>Lib Arts</td>\n",
       "      <td>1300</td>\n",
       "      <td>28</td>\n",
       "      <td>23132</td>\n",
       "      <td>90</td>\n",
       "    </tr>\n",
       "    <tr>\n",
       "      <th>5</th>\n",
       "      <td>Brown</td>\n",
       "      <td>University</td>\n",
       "      <td>1281</td>\n",
       "      <td>23</td>\n",
       "      <td>26621</td>\n",
       "      <td>90</td>\n",
       "    </tr>\n",
       "    <tr>\n",
       "      <th>6</th>\n",
       "      <td>Bryn Mawr</td>\n",
       "      <td>Lib Arts</td>\n",
       "      <td>1255</td>\n",
       "      <td>60</td>\n",
       "      <td>16962</td>\n",
       "      <td>84</td>\n",
       "    </tr>\n",
       "    <tr>\n",
       "      <th>7</th>\n",
       "      <td>Cal Tech</td>\n",
       "      <td>University</td>\n",
       "      <td>1400</td>\n",
       "      <td>30</td>\n",
       "      <td>112488</td>\n",
       "      <td>75</td>\n",
       "    </tr>\n",
       "    <tr>\n",
       "      <th>8</th>\n",
       "      <td>Carleton</td>\n",
       "      <td>Lib Arts</td>\n",
       "      <td>1300</td>\n",
       "      <td>44</td>\n",
       "      <td>14313</td>\n",
       "      <td>80</td>\n",
       "    </tr>\n",
       "    <tr>\n",
       "      <th>9</th>\n",
       "      <td>Carnegie Mellon</td>\n",
       "      <td>University</td>\n",
       "      <td>1225</td>\n",
       "      <td>63</td>\n",
       "      <td>36967</td>\n",
       "      <td>77</td>\n",
       "    </tr>\n",
       "    <tr>\n",
       "      <th>10</th>\n",
       "      <td>Claremont McKenna</td>\n",
       "      <td>Lib Arts</td>\n",
       "      <td>1260</td>\n",
       "      <td>40</td>\n",
       "      <td>18339</td>\n",
       "      <td>74</td>\n",
       "    </tr>\n",
       "    <tr>\n",
       "      <th>11</th>\n",
       "      <td>Colby</td>\n",
       "      <td>Lib Arts</td>\n",
       "      <td>1200</td>\n",
       "      <td>50</td>\n",
       "      <td>16984</td>\n",
       "      <td>84</td>\n",
       "    </tr>\n",
       "    <tr>\n",
       "      <th>12</th>\n",
       "      <td>Colgate</td>\n",
       "      <td>Lib Arts</td>\n",
       "      <td>1258</td>\n",
       "      <td>42</td>\n",
       "      <td>15768</td>\n",
       "      <td>85</td>\n",
       "    </tr>\n",
       "    <tr>\n",
       "      <th>13</th>\n",
       "      <td>Columbia</td>\n",
       "      <td>University</td>\n",
       "      <td>1268</td>\n",
       "      <td>28</td>\n",
       "      <td>50466</td>\n",
       "      <td>90</td>\n",
       "    </tr>\n",
       "    <tr>\n",
       "      <th>14</th>\n",
       "      <td>Cornell</td>\n",
       "      <td>University</td>\n",
       "      <td>1280</td>\n",
       "      <td>29</td>\n",
       "      <td>40850</td>\n",
       "      <td>83</td>\n",
       "    </tr>\n",
       "    <tr>\n",
       "      <th>15</th>\n",
       "      <td>Davidson</td>\n",
       "      <td>Lib Arts</td>\n",
       "      <td>1230</td>\n",
       "      <td>40</td>\n",
       "      <td>15948</td>\n",
       "      <td>89</td>\n",
       "    </tr>\n",
       "    <tr>\n",
       "      <th>16</th>\n",
       "      <td>Duke</td>\n",
       "      <td>University</td>\n",
       "      <td>1310</td>\n",
       "      <td>24</td>\n",
       "      <td>43454</td>\n",
       "      <td>91</td>\n",
       "    </tr>\n",
       "    <tr>\n",
       "      <th>17</th>\n",
       "      <td>Georgetown</td>\n",
       "      <td>University</td>\n",
       "      <td>1278</td>\n",
       "      <td>23</td>\n",
       "      <td>25426</td>\n",
       "      <td>89</td>\n",
       "    </tr>\n",
       "    <tr>\n",
       "      <th>18</th>\n",
       "      <td>Grinnell</td>\n",
       "      <td>Lib Arts</td>\n",
       "      <td>1244</td>\n",
       "      <td>71</td>\n",
       "      <td>20070</td>\n",
       "      <td>73</td>\n",
       "    </tr>\n",
       "    <tr>\n",
       "      <th>19</th>\n",
       "      <td>Hamilton</td>\n",
       "      <td>Lib Arts</td>\n",
       "      <td>1215</td>\n",
       "      <td>42</td>\n",
       "      <td>18649</td>\n",
       "      <td>85</td>\n",
       "    </tr>\n",
       "    <tr>\n",
       "      <th>20</th>\n",
       "      <td>Harvard</td>\n",
       "      <td>University</td>\n",
       "      <td>1370</td>\n",
       "      <td>17</td>\n",
       "      <td>51609</td>\n",
       "      <td>90</td>\n",
       "    </tr>\n",
       "    <tr>\n",
       "      <th>21</th>\n",
       "      <td>Haverford</td>\n",
       "      <td>Lib Arts</td>\n",
       "      <td>1285</td>\n",
       "      <td>39</td>\n",
       "      <td>17476</td>\n",
       "      <td>87</td>\n",
       "    </tr>\n",
       "    <tr>\n",
       "      <th>22</th>\n",
       "      <td>Johns Hopkins</td>\n",
       "      <td>University</td>\n",
       "      <td>1290</td>\n",
       "      <td>47</td>\n",
       "      <td>50006</td>\n",
       "      <td>86</td>\n",
       "    </tr>\n",
       "    <tr>\n",
       "      <th>23</th>\n",
       "      <td>Middlebury</td>\n",
       "      <td>Lib Arts</td>\n",
       "      <td>1255</td>\n",
       "      <td>29</td>\n",
       "      <td>22246</td>\n",
       "      <td>92</td>\n",
       "    </tr>\n",
       "    <tr>\n",
       "      <th>24</th>\n",
       "      <td>MIT</td>\n",
       "      <td>University</td>\n",
       "      <td>1357</td>\n",
       "      <td>29</td>\n",
       "      <td>62442</td>\n",
       "      <td>86</td>\n",
       "    </tr>\n",
       "    <tr>\n",
       "      <th>25</th>\n",
       "      <td>Mount Holyoke</td>\n",
       "      <td>Lib Arts</td>\n",
       "      <td>1200</td>\n",
       "      <td>65</td>\n",
       "      <td>21022</td>\n",
       "      <td>83</td>\n",
       "    </tr>\n",
       "    <tr>\n",
       "      <th>26</th>\n",
       "      <td>Northwestern</td>\n",
       "      <td>University</td>\n",
       "      <td>1230</td>\n",
       "      <td>46</td>\n",
       "      <td>31736</td>\n",
       "      <td>82</td>\n",
       "    </tr>\n",
       "    <tr>\n",
       "      <th>27</th>\n",
       "      <td>Oberlin</td>\n",
       "      <td>Lib Arts</td>\n",
       "      <td>1247</td>\n",
       "      <td>58</td>\n",
       "      <td>21231</td>\n",
       "      <td>77</td>\n",
       "    </tr>\n",
       "    <tr>\n",
       "      <th>28</th>\n",
       "      <td>Occidental</td>\n",
       "      <td>Lib Arts</td>\n",
       "      <td>1170</td>\n",
       "      <td>53</td>\n",
       "      <td>18172</td>\n",
       "      <td>72</td>\n",
       "    </tr>\n",
       "    <tr>\n",
       "      <th>29</th>\n",
       "      <td>Pomona</td>\n",
       "      <td>Lib Arts</td>\n",
       "      <td>1320</td>\n",
       "      <td>37</td>\n",
       "      <td>24001</td>\n",
       "      <td>80</td>\n",
       "    </tr>\n",
       "    <tr>\n",
       "      <th>30</th>\n",
       "      <td>Princeton</td>\n",
       "      <td>University</td>\n",
       "      <td>1340</td>\n",
       "      <td>16</td>\n",
       "      <td>52935</td>\n",
       "      <td>93</td>\n",
       "    </tr>\n",
       "    <tr>\n",
       "      <th>31</th>\n",
       "      <td>Rice</td>\n",
       "      <td>University</td>\n",
       "      <td>1327</td>\n",
       "      <td>23</td>\n",
       "      <td>29403</td>\n",
       "      <td>88</td>\n",
       "    </tr>\n",
       "    <tr>\n",
       "      <th>32</th>\n",
       "      <td>Smith</td>\n",
       "      <td>Lib Arts</td>\n",
       "      <td>1195</td>\n",
       "      <td>61</td>\n",
       "      <td>22743</td>\n",
       "      <td>87</td>\n",
       "    </tr>\n",
       "    <tr>\n",
       "      <th>33</th>\n",
       "      <td>Stanford</td>\n",
       "      <td>University</td>\n",
       "      <td>1370</td>\n",
       "      <td>17</td>\n",
       "      <td>68113</td>\n",
       "      <td>88</td>\n",
       "    </tr>\n",
       "    <tr>\n",
       "      <th>34</th>\n",
       "      <td>Swarthnore</td>\n",
       "      <td>Lib Arts</td>\n",
       "      <td>1310</td>\n",
       "      <td>28</td>\n",
       "      <td>24738</td>\n",
       "      <td>88</td>\n",
       "    </tr>\n",
       "    <tr>\n",
       "      <th>35</th>\n",
       "      <td>Syracuse</td>\n",
       "      <td>University</td>\n",
       "      <td>1350</td>\n",
       "      <td>19</td>\n",
       "      <td>36850</td>\n",
       "      <td>90</td>\n",
       "    </tr>\n",
       "    <tr>\n",
       "      <th>36</th>\n",
       "      <td>U Michigan</td>\n",
       "      <td>University</td>\n",
       "      <td>1195</td>\n",
       "      <td>59</td>\n",
       "      <td>24038</td>\n",
       "      <td>77</td>\n",
       "    </tr>\n",
       "    <tr>\n",
       "      <th>37</th>\n",
       "      <td>U of Chicago</td>\n",
       "      <td>University</td>\n",
       "      <td>1300</td>\n",
       "      <td>44</td>\n",
       "      <td>42830</td>\n",
       "      <td>73</td>\n",
       "    </tr>\n",
       "    <tr>\n",
       "      <th>38</th>\n",
       "      <td>U of Rochester</td>\n",
       "      <td>University</td>\n",
       "      <td>1155</td>\n",
       "      <td>55</td>\n",
       "      <td>42456</td>\n",
       "      <td>73</td>\n",
       "    </tr>\n",
       "    <tr>\n",
       "      <th>39</th>\n",
       "      <td>U Pennsylvania</td>\n",
       "      <td>University</td>\n",
       "      <td>1280</td>\n",
       "      <td>40</td>\n",
       "      <td>33970</td>\n",
       "      <td>86</td>\n",
       "    </tr>\n",
       "    <tr>\n",
       "      <th>40</th>\n",
       "      <td>U Va</td>\n",
       "      <td>University</td>\n",
       "      <td>1218</td>\n",
       "      <td>36</td>\n",
       "      <td>21301</td>\n",
       "      <td>88</td>\n",
       "    </tr>\n",
       "    <tr>\n",
       "      <th>41</th>\n",
       "      <td>UCLA</td>\n",
       "      <td>University</td>\n",
       "      <td>1142</td>\n",
       "      <td>42</td>\n",
       "      <td>29544</td>\n",
       "      <td>61</td>\n",
       "    </tr>\n",
       "    <tr>\n",
       "      <th>42</th>\n",
       "      <td>UNC</td>\n",
       "      <td>University</td>\n",
       "      <td>1109</td>\n",
       "      <td>31</td>\n",
       "      <td>21652</td>\n",
       "      <td>73</td>\n",
       "    </tr>\n",
       "    <tr>\n",
       "      <th>43</th>\n",
       "      <td>Vassar</td>\n",
       "      <td>Lib Arts</td>\n",
       "      <td>1287</td>\n",
       "      <td>47</td>\n",
       "      <td>18161</td>\n",
       "      <td>84</td>\n",
       "    </tr>\n",
       "    <tr>\n",
       "      <th>44</th>\n",
       "      <td>Washington U (MO)</td>\n",
       "      <td>University</td>\n",
       "      <td>1225</td>\n",
       "      <td>53</td>\n",
       "      <td>43871</td>\n",
       "      <td>76</td>\n",
       "    </tr>\n",
       "    <tr>\n",
       "      <th>45</th>\n",
       "      <td>Washinton and Lee</td>\n",
       "      <td>Lib Arts</td>\n",
       "      <td>1234</td>\n",
       "      <td>33</td>\n",
       "      <td>16198</td>\n",
       "      <td>78</td>\n",
       "    </tr>\n",
       "    <tr>\n",
       "      <th>46</th>\n",
       "      <td>Wellesley</td>\n",
       "      <td>Lib Arts</td>\n",
       "      <td>1250</td>\n",
       "      <td>53</td>\n",
       "      <td>25091</td>\n",
       "      <td>86</td>\n",
       "    </tr>\n",
       "    <tr>\n",
       "      <th>47</th>\n",
       "      <td>Wesleyan (CT)</td>\n",
       "      <td>Lib Arts</td>\n",
       "      <td>1290</td>\n",
       "      <td>39</td>\n",
       "      <td>17953</td>\n",
       "      <td>91</td>\n",
       "    </tr>\n",
       "    <tr>\n",
       "      <th>48</th>\n",
       "      <td>Williams</td>\n",
       "      <td>Lib Arts</td>\n",
       "      <td>1336</td>\n",
       "      <td>32</td>\n",
       "      <td>21394</td>\n",
       "      <td>93</td>\n",
       "    </tr>\n",
       "    <tr>\n",
       "      <th>49</th>\n",
       "      <td>Yale</td>\n",
       "      <td>University</td>\n",
       "      <td>1350</td>\n",
       "      <td>18</td>\n",
       "      <td>57714</td>\n",
       "      <td>93</td>\n",
       "    </tr>\n",
       "  </tbody>\n",
       "</table>\n",
       "</div>"
      ],
      "text/plain": [
       "               School        Type  Median_SAT  Acceptance_Rate_Perc  \\\n",
       "0             Amherst    Lib Arts        1315                    26   \n",
       "1             Barnard    Lib Arts        1220                    57   \n",
       "2               Bates    Lib Arts        1240                    40   \n",
       "3            Berkeley  University        1176                    36   \n",
       "4             Bowdoin    Lib Arts        1300                    28   \n",
       "5               Brown  University        1281                    23   \n",
       "6           Bryn Mawr    Lib Arts        1255                    60   \n",
       "7            Cal Tech  University        1400                    30   \n",
       "8            Carleton    Lib Arts        1300                    44   \n",
       "9     Carnegie Mellon  University        1225                    63   \n",
       "10  Claremont McKenna    Lib Arts        1260                    40   \n",
       "11              Colby    Lib Arts        1200                    50   \n",
       "12            Colgate    Lib Arts        1258                    42   \n",
       "13           Columbia  University        1268                    28   \n",
       "14            Cornell  University        1280                    29   \n",
       "15           Davidson    Lib Arts        1230                    40   \n",
       "16               Duke  University        1310                    24   \n",
       "17         Georgetown  University        1278                    23   \n",
       "18           Grinnell    Lib Arts        1244                    71   \n",
       "19           Hamilton    Lib Arts        1215                    42   \n",
       "20            Harvard  University        1370                    17   \n",
       "21          Haverford    Lib Arts        1285                    39   \n",
       "22      Johns Hopkins  University        1290                    47   \n",
       "23         Middlebury    Lib Arts        1255                    29   \n",
       "24                MIT  University        1357                    29   \n",
       "25      Mount Holyoke    Lib Arts        1200                    65   \n",
       "26       Northwestern  University        1230                    46   \n",
       "27            Oberlin    Lib Arts        1247                    58   \n",
       "28         Occidental    Lib Arts        1170                    53   \n",
       "29             Pomona    Lib Arts        1320                    37   \n",
       "30          Princeton  University        1340                    16   \n",
       "31               Rice  University        1327                    23   \n",
       "32              Smith    Lib Arts        1195                    61   \n",
       "33           Stanford  University        1370                    17   \n",
       "34         Swarthnore    Lib Arts        1310                    28   \n",
       "35           Syracuse  University        1350                    19   \n",
       "36         U Michigan  University        1195                    59   \n",
       "37       U of Chicago  University        1300                    44   \n",
       "38     U of Rochester  University        1155                    55   \n",
       "39     U Pennsylvania  University        1280                    40   \n",
       "40               U Va  University        1218                    36   \n",
       "41               UCLA  University        1142                    42   \n",
       "42                UNC  University        1109                    31   \n",
       "43             Vassar    Lib Arts        1287                    47   \n",
       "44  Washington U (MO)  University        1225                    53   \n",
       "45  Washinton and Lee    Lib Arts        1234                    33   \n",
       "46          Wellesley    Lib Arts        1250                    53   \n",
       "47      Wesleyan (CT)    Lib Arts        1290                    39   \n",
       "48           Williams    Lib Arts        1336                    32   \n",
       "49               Yale  University        1350                    18   \n",
       "\n",
       "    Expenditures_per_Student  Graduation_perc  \n",
       "0                      23972               93  \n",
       "1                      15887               80  \n",
       "2                      15798               88  \n",
       "3                      26031               68  \n",
       "4                      23132               90  \n",
       "5                      26621               90  \n",
       "6                      16962               84  \n",
       "7                     112488               75  \n",
       "8                      14313               80  \n",
       "9                      36967               77  \n",
       "10                     18339               74  \n",
       "11                     16984               84  \n",
       "12                     15768               85  \n",
       "13                     50466               90  \n",
       "14                     40850               83  \n",
       "15                     15948               89  \n",
       "16                     43454               91  \n",
       "17                     25426               89  \n",
       "18                     20070               73  \n",
       "19                     18649               85  \n",
       "20                     51609               90  \n",
       "21                     17476               87  \n",
       "22                     50006               86  \n",
       "23                     22246               92  \n",
       "24                     62442               86  \n",
       "25                     21022               83  \n",
       "26                     31736               82  \n",
       "27                     21231               77  \n",
       "28                     18172               72  \n",
       "29                     24001               80  \n",
       "30                     52935               93  \n",
       "31                     29403               88  \n",
       "32                     22743               87  \n",
       "33                     68113               88  \n",
       "34                     24738               88  \n",
       "35                     36850               90  \n",
       "36                     24038               77  \n",
       "37                     42830               73  \n",
       "38                     42456               73  \n",
       "39                     33970               86  \n",
       "40                     21301               88  \n",
       "41                     29544               61  \n",
       "42                     21652               73  \n",
       "43                     18161               84  \n",
       "44                     43871               76  \n",
       "45                     16198               78  \n",
       "46                     25091               86  \n",
       "47                     17953               91  \n",
       "48                     21394               93  \n",
       "49                     57714               93  "
      ]
     },
     "execution_count": 2,
     "metadata": {},
     "output_type": "execute_result"
    }
   ],
   "source": [
    "adata = pd.read_csv('Universities.csv')\n",
    "adata['Expenditures_per_Student']=adata['Expenditures_per_Student'].replace( '[\\$,)]','', regex=True ).replace( '[(]','-',   regex=True ).astype(int)\n",
    "adata"
   ]
  },
  {
   "cell_type": "code",
   "execution_count": 3,
   "metadata": {
    "collapsed": false
   },
   "outputs": [
    {
     "data": {
      "text/plain": [
       "<matplotlib.axes._subplots.AxesSubplot at 0x11768fa20>"
      ]
     },
     "execution_count": 3,
     "metadata": {},
     "output_type": "execute_result"
    },
    {
     "data": {
      "image/png": "[encoded data removed]",
      "text/plain": [
       "<matplotlib.figure.Figure at 0x1175dc390>"
      ]
     },
     "metadata": {},
     "output_type": "display_data"
    }
   ],
   "source": [
    "fig, axs = plt.subplots(1, 3, sharey=True)\n",
    "adata.plot(kind='scatter', x='Median_SAT', y='Graduation_perc', ax=axs[0], figsize=(16, 8))\n",
    "adata.plot(kind='scatter', x='Expenditures_per_Student', y='Graduation_perc', ax=axs[1])\n",
    "adata.plot(kind='scatter', x='Acceptance_Rate_Perc', y='Graduation_perc', ax=axs[2])"
   ]
  },
  {
   "cell_type": "code",
   "execution_count": 4,
   "metadata": {
    "collapsed": true
   },
   "outputs": [],
   "source": [
    "from sklearn.linear_model import LinearRegression\n",
    "import numpy as np"
   ]
  },
  {
   "cell_type": "code",
   "execution_count": 5,
   "metadata": {
    "collapsed": false
   },
   "outputs": [
    {
     "name": "stdout",
     "output_type": "stream",
     "text": [
      "-1.93016253461\n",
      "[ 0.06744739]\n"
     ]
    }
   ],
   "source": [
    "input_cols = ['Median_SAT']\n",
    "sat = adata[input_cols]\n",
    "grad_perc = adata.Graduation_perc\n",
    "\n",
    "sat_model = LinearRegression()\n",
    "sat_model.fit(sat, grad_perc)\n",
    "\n",
    "# print intercept and coefficients\n",
    "print(sat_model.intercept_)\n",
    "print(sat_model.coef_)"
   ]
  },
  {
   "cell_type": "code",
   "execution_count": 6,
   "metadata": {
    "collapsed": false
   },
   "outputs": [
    {
     "data": {
      "text/plain": [
       "[<matplotlib.lines.Line2D at 0x11a6d4d30>]"
      ]
     },
     "execution_count": 6,
     "metadata": {},
     "output_type": "execute_result"
    },
    {
     "data": {
      "image/png": "[encoded data removed]",
      "text/plain": [
       "<matplotlib.figure.Figure at 0x11a6b2eb8>"
      ]
     },
     "metadata": {},
     "output_type": "display_data"
    }
   ],
   "source": [
    "adata.plot(kind='scatter', x='Median_SAT', y='Graduation_perc')\n",
    "plt.plot(sat, sat_model.predict(sat), c='green', linewidth=2)"
   ]
  },
  {
   "cell_type": "code",
   "execution_count": 7,
   "metadata": {
    "collapsed": false
   },
   "outputs": [
    {
     "data": {
      "text/plain": [
       "0.32921984496098078"
      ]
     },
     "execution_count": 7,
     "metadata": {},
     "output_type": "execute_result"
    }
   ],
   "source": [
    "##Calculate R score for the SAT score vs graduation\n",
    "sat_model.score(sat, grad_perc)"
   ]
  },
  {
   "cell_type": "code",
   "execution_count": 8,
   "metadata": {
    "collapsed": false
   },
   "outputs": [
    {
     "name": "stdout",
     "output_type": "stream",
     "text": [
      "83.0440186312\n",
      "[  1.08449585e-05]\n"
     ]
    }
   ],
   "source": [
    "input_cols = ['Expenditures_per_Student']\n",
    "exp = adata[input_cols]\n",
    "grad_perc = adata.Graduation_perc\n",
    "\n",
    "exp_model = LinearRegression()\n",
    "exp_model.fit(exp, grad_perc)\n",
    "\n",
    "# print intercept and coefficients\n",
    "print(exp_model.intercept_)\n",
    "print(exp_model.coef_)"
   ]
  },
  {
   "cell_type": "code",
   "execution_count": 9,
   "metadata": {
    "collapsed": false
   },
   "outputs": [
    {
     "data": {
      "text/plain": [
       "[<matplotlib.lines.Line2D at 0x11cba00b8>]"
      ]
     },
     "execution_count": 9,
     "metadata": {},
     "output_type": "execute_result"
    },
    {
     "data": {
      "image/png": "[encoded data removed]",
      "text/plain": [
       "<matplotlib.figure.Figure at 0x11a30de48>"
      ]
     },
     "metadata": {},
     "output_type": "display_data"
    }
   ],
   "source": [
    "adata.plot(kind='scatter', x='Expenditures_per_Student', y='Graduation_perc')\n",
    "plt.plot(exp, exp_model.predict(exp), c='red', linewidth=2)"
   ]
  },
  {
   "cell_type": "code",
   "execution_count": 10,
   "metadata": {
    "collapsed": false
   },
   "outputs": [
    {
     "data": {
      "text/plain": [
       "0.00069644476399255417"
      ]
     },
     "execution_count": 10,
     "metadata": {},
     "output_type": "execute_result"
    }
   ],
   "source": [
    "##Calculate R score for the Expenditures vs graduation\n",
    "exp_model.score(exp, grad_perc)"
   ]
  },
  {
   "cell_type": "code",
   "execution_count": 11,
   "metadata": {
    "collapsed": false
   },
   "outputs": [
    {
     "name": "stdout",
     "output_type": "stream",
     "text": [
      "93.8951328076\n",
      "[-0.26796975]\n"
     ]
    }
   ],
   "source": [
    "input_cols = ['Acceptance_Rate_Perc']\n",
    "acc = adata[input_cols]\n",
    "grad_perc = adata.Graduation_perc\n",
    "\n",
    "acc_model = LinearRegression()\n",
    "acc_model.fit(acc, grad_perc)\n",
    "\n",
    "# print intercept and coefficients\n",
    "print(acc_model.intercept_)\n",
    "print(acc_model.coef_)"
   ]
  },
  {
   "cell_type": "code",
   "execution_count": 12,
   "metadata": {
    "collapsed": false
   },
   "outputs": [
    {
     "data": {
      "text/plain": [
       "[<matplotlib.lines.Line2D at 0x11cbe2208>]"
      ]
     },
     "execution_count": 12,
     "metadata": {},
     "output_type": "execute_result"
    },
    {
     "data": {
      "image/png": "[encoded data removed]",
      "text/plain": [
       "<matplotlib.figure.Figure at 0x11cbe2940>"
      ]
     },
     "metadata": {},
     "output_type": "display_data"
    }
   ],
   "source": [
    "adata.plot(kind='scatter', x='Acceptance_Rate_Perc', y='Graduation_perc',)\n",
    "plt.plot(acc, acc_model.predict(acc), c='blue', linewidth=2)"
   ]
  },
  {
   "cell_type": "code",
   "execution_count": 13,
   "metadata": {
    "collapsed": false
   },
   "outputs": [
    {
     "data": {
      "text/plain": [
       "-0.0021004477029522572"
      ]
     },
     "execution_count": 13,
     "metadata": {},
     "output_type": "execute_result"
    }
   ],
   "source": [
    "##Calculate R score for the Acceptance Rate vs Graduation Rate\n",
    "exp_model.score(acc, grad_perc)"
   ]
  },
  {
   "cell_type": "code",
   "execution_count": 14,
   "metadata": {
    "collapsed": false
   },
   "outputs": [
    {
     "name": "stdout",
     "output_type": "stream",
     "text": [
      "2.58211601448\n",
      "[ 0.0730278  -0.00017482 -0.15684619]\n"
     ]
    }
   ],
   "source": [
    "input_cols = ['Median_SAT', 'Expenditures_per_Student', 'Acceptance_Rate_Perc']\n",
    "multi = adata[input_cols]\n",
    "grad_perc = adata.Graduation_perc\n",
    "\n",
    "mul_model = LinearRegression()\n",
    "mul_model.fit(multi, grad_perc)\n",
    "\n",
    "# print intercept and coefficients\n",
    "print(mul_model.intercept_)\n",
    "print(mul_model.coef_)"
   ]
  },
  {
   "cell_type": "code",
   "execution_count": 15,
   "metadata": {
    "collapsed": false
   },
   "outputs": [
    {
     "name": "stdout",
     "output_type": "stream",
     "text": [
      "5.207653333502493\n"
     ]
    },
    {
     "data": {
      "text/plain": [
       "0.49922716686843832"
      ]
     },
     "execution_count": 15,
     "metadata": {},
     "output_type": "execute_result"
    }
   ],
   "source": [
    "# Mean squared error\n",
    "print(np.mean((mul_model.predict(multi) - grad_perc) ** 2)**.5)\n",
    "\n",
    "# R-Squared value \n",
    "mul_model.score(multi, grad_perc)"
   ]
  },
  {
   "cell_type": "code",
   "execution_count": 17,
   "metadata": {
    "collapsed": false
   },
   "outputs": [
    {
     "data": {
      "text/plain": [
       "<matplotlib.axes._subplots.AxesSubplot at 0x11d1a2438>"
      ]
     },
     "execution_count": 17,
     "metadata": {},
     "output_type": "execute_result"
    },
    {
     "data": {
      "image/png": "[encoded data removed]",
      "text/plain": [
       "<matplotlib.figure.Figure at 0x1070bec50>"
      ]
     },
     "metadata": {},
     "output_type": "display_data"
    }
   ],
   "source": [
    "adata.plot()"
   ]
  },
  {
   "cell_type": "markdown",
   "metadata": {},
   "source": [
    "# Results\n",
    "### Correlations\n",
    "##### The highest correlation was between median SAT score and graduation rate. With an R-Score of: 0.329. This shows that SAT score is the best measured indicator of the percantage of students that will graduate.\n",
    "##### The second highest correlation was between acceptance rate and graduation percentage. With an R-Score of: -0.0021. This shows that the more students that a school accepts, the lower the graduation rate. This means it pays to picky if a University wants a high graduation rate.\n",
    "##### The final measurement had almost no correlation. With an R-Score of:  0.000696. There is no real indicator on how the more expenses a student has will affect the graduation rate.\n"
   ]
  }
 ],
 "metadata": {
  "anaconda-cloud": {},
  "kernelspec": {
   "display_name": "Python [Root]",
   "language": "python",
   "name": "Python [Root]"
  },
  "language_info": {
   "codemirror_mode": {
    "name": "ipython",
    "version": 3
   },
   "file_extension": ".py",
   "mimetype": "text/x-python",
   "name": "python",
   "nbconvert_exporter": "python",
   "pygments_lexer": "ipython3",
   "version": "3.5.2"
  }
 },
 "nbformat": 4,
 "nbformat_minor": 0
}
