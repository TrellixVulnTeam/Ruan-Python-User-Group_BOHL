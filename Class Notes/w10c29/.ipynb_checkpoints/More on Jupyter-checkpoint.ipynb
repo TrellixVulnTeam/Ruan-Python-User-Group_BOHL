{
 "cells": [
  {
   "cell_type": "markdown",
   "metadata": {},
   "source": [
    "## Magics\n",
    "\n",
    "As I discussed in last class, Jupyter support many different languages. As you notice when you creat a notebook, though, you must select which language your notebook will use. \n",
    "\n",
    "This continued to be the case - that is, a notebook will be associated with a default language, and thus call \"code blocks\" will be considered to be code within this default language.\n",
    "\n",
    "One recent addition, and \"sort of\" way around this is through the use of \"magics\". \n",
    "\n",
    "With \"magics\" it is possible to run code from different languages within our Python notebook. "
   ]
  },
  {
   "cell_type": "markdown",
   "metadata": {},
   "source": [
    "### Available Magics\n",
    "\n",
    "The support for \"magics\" varies greatly across differnet jupyter versions, and kernels.\n",
    "\n",
    "To find whcih magics are supported on your particular instance of Jupyter, you can use the \"% lsmagic\" comman. \n"
   ]
  },
  {
   "cell_type": "code",
   "execution_count": null,
   "metadata": {
    "collapsed": true
   },
   "outputs": [],
   "source": []
  }
 ],
 "metadata": {
  "kernelspec": {
   "display_name": "Python 3",
   "language": "python",
   "name": "python3"
  },
  "language_info": {
   "codemirror_mode": {
    "name": "ipython",
    "version": 3
   },
   "file_extension": ".py",
   "mimetype": "text/x-python",
   "name": "python",
   "nbconvert_exporter": "python",
   "pygments_lexer": "ipython3",
   "version": "3.5.2"
  }
 },
 "nbformat": 4,
 "nbformat_minor": 1
}
